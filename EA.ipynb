{
  "cells": [
    {
      "cell_type": "code",
      "execution_count": 3,
      "metadata": {},
      "outputs": [],
      "source": [
        "# Basic functions created\n",
        "# select_random_words = selects random words\n",
        "# create_poems = merge 4 words to string to get poem like structure\n",
        "# store_syllables = saves the sum of syllables in each verse"
      ]
    },
    {
      "cell_type": "code",
      "execution_count": 4,
      "metadata": {
        "colab": {
          "base_uri": "https://localhost:8080/",
          "height": 385
        },
        "id": "1j57T0Tsi-zz",
        "outputId": "1cf7b914-c12e-415f-fc55-99eae54a691e"
      },
      "outputs": [],
      "source": [
        "import syllables \n",
        "import pandas as pd\n",
        "import random"
      ]
    },
    {
      "cell_type": "code",
      "execution_count": 5,
      "metadata": {},
      "outputs": [],
      "source": [
        "words_df = pd.read_csv('words.csv')\n",
        "\n"
      ]
    },
    {
      "cell_type": "code",
      "execution_count": 6,
      "metadata": {},
      "outputs": [
        {
          "data": {
            "text/plain": [
              "pandas.core.frame.DataFrame"
            ]
          },
          "execution_count": 6,
          "metadata": {},
          "output_type": "execute_result"
        }
      ],
      "source": [
        "type(words_df)"
      ]
    },
    {
      "cell_type": "code",
      "execution_count": 7,
      "metadata": {},
      "outputs": [
        {
          "name": "stdout",
          "output_type": "stream",
          "text": [
            "           word  freq             pos  syll\n",
            "0        people   372            noun     2\n",
            "1       history   187            noun     3\n",
            "2           way   185            noun     1\n",
            "3           art   183            noun     1\n",
            "4         world   169            noun     1\n",
            "...         ...   ...             ...   ...\n",
            "1520  temporary     1  adjective,noun     4\n",
            "1521   tomorrow     1     adverb,noun     3\n",
            "1522       wake     1       verb,noun     1\n",
            "1523       wrap     1       verb,noun     1\n",
            "1524  yesterday     1     adverb,noun     3\n",
            "\n",
            "[1525 rows x 4 columns]\n"
          ]
        }
      ],
      "source": [
        "print(words_df)"
      ]
    },
    {
      "cell_type": "code",
      "execution_count": 8,
      "metadata": {},
      "outputs": [],
      "source": [
        "# generate random 16 numbers\n",
        "def select_random_words():\n",
        "    random_word = [random.randint(0, len(words_df)) for p in range(0, 16)]\n",
        "    words_array1 = [0 for _ in range(16)]\n",
        "    print(random_word)\n",
        "    i = 0\n",
        "    for word_index in random_word:\n",
        "        words_array1[i] = words_df[\"word\"][word_index]\n",
        "        i +=1\n",
        "    return random_word,words_array1"
      ]
    },
    {
      "cell_type": "code",
      "execution_count": 9,
      "metadata": {},
      "outputs": [
        {
          "name": "stdout",
          "output_type": "stream",
          "text": [
            "[312, 195, 489, 301, 993, 547, 220, 218, 1028, 331, 1320, 673, 1414, 668, 917, 608]\n"
          ]
        }
      ],
      "source": [
        "random_wordchoice,words_array = select_random_words()"
      ]
    },
    {
      "cell_type": "code",
      "execution_count": 10,
      "metadata": {},
      "outputs": [
        {
          "name": "stdout",
          "output_type": "stream",
          "text": [
            "[312, 195, 489, 301, 993, 547, 220, 218, 1028, 331, 1320, 673, 1414, 668, 917, 608] ['refrigerator', 'heart', 'example', 'extent', 'iron', 'research', 'aspect', 'solution', 'comment', 'lab', 'secret', 'impact', 'smell', 'bit', 'swimming', 'beginning']\n"
          ]
        }
      ],
      "source": [
        "print(random_wordchoice,words_array)"
      ]
    },
    {
      "cell_type": "code",
      "execution_count": 11,
      "metadata": {},
      "outputs": [],
      "source": [
        "def create_poems(arr):\n",
        "  j = 0\n",
        "  poem = [0 for _ in range(4)]\n",
        "  for i in range(1,5):\n",
        "    temp =  arr[4*(i-1):4*i]\n",
        "    poem[i-1] = temp\n",
        "    # print(poem[i-1])\n",
        "    poem[i-1]=' '.join(poem[i-1])\n",
        "  return poem"
      ]
    },
    {
      "cell_type": "code",
      "execution_count": 12,
      "metadata": {},
      "outputs": [
        {
          "name": "stdout",
          "output_type": "stream",
          "text": [
            "['refrigerator heart example extent', 'iron research aspect solution', 'comment lab secret impact', 'smell bit swimming beginning']\n"
          ]
        }
      ],
      "source": [
        "poem = create_poems(words_array)\n",
        "print(poem)"
      ]
    },
    {
      "cell_type": "code",
      "execution_count": 13,
      "metadata": {},
      "outputs": [],
      "source": [
        "def store_syllables(arr):\n",
        "    a = [0 for _ in range(4)]\n",
        "    temp = 0\n",
        "    j = 0\n",
        "    for words,i in zip(arr,range(0,16)):\n",
        "        temp = temp + syllables.estimate(words)\n",
        "        if i in [3,7,11,15]:\n",
        "            a[j] = temp\n",
        "            # print(a[j])\n",
        "            temp = 0\n",
        "            j +=1\n",
        "    return a\n",
        "\n"
      ]
    },
    {
      "cell_type": "code",
      "execution_count": 14,
      "metadata": {},
      "outputs": [
        {
          "name": "stdout",
          "output_type": "stream",
          "text": [
            "[11, 9, 7, 7]\n"
          ]
        }
      ],
      "source": [
        "sum_syllables = store_syllables(words_array)\n",
        "print(sum_syllables)"
      ]
    },
    {
      "cell_type": "code",
      "execution_count": null,
      "metadata": {},
      "outputs": [],
      "source": []
    }
  ],
  "metadata": {
    "colab": {
      "name": "Untitled7.ipynb",
      "provenance": []
    },
    "kernelspec": {
      "display_name": "Python 3",
      "name": "python3"
    },
    "language_info": {
      "codemirror_mode": {
        "name": "ipython",
        "version": 3
      },
      "file_extension": ".py",
      "mimetype": "text/x-python",
      "name": "python",
      "nbconvert_exporter": "python",
      "pygments_lexer": "ipython3",
      "version": "3.8.8"
    }
  },
  "nbformat": 4,
  "nbformat_minor": 0
}
